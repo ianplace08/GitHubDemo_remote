{
  "nbformat": 4,
  "nbformat_minor": 0,
  "metadata": {
    "colab": {
      "name": "Variables.ipynb",
      "provenance": [],
      "authorship_tag": "ABX9TyM/6Pq9Hj9tKz53Hlc0BtnK",
      "include_colab_link": true
    },
    "kernelspec": {
      "name": "python3",
      "display_name": "Python 3"
    },
    "language_info": {
      "name": "python"
    }
  },
  "cells": [
    {
      "cell_type": "markdown",
      "metadata": {
        "id": "view-in-github",
        "colab_type": "text"
      },
      "source": [
        "<a href=\"https://colab.research.google.com/github/ianplace08/GitHubDemo_remote/blob/main/Variables.ipynb\" target=\"_parent\"><img src=\"https://colab.research.google.com/assets/colab-badge.svg\" alt=\"Open In Colab\"/></a>"
      ]
    },
    {
      "cell_type": "markdown",
      "source": [
        "Variables"
      ],
      "metadata": {
        "id": "YPhSxpmhBV9i"
      }
    },
    {
      "cell_type": "code",
      "source": [
        "a = 4\n"
      ],
      "metadata": {
        "id": "oSXHcDFlBZ50"
      },
      "execution_count": 2,
      "outputs": []
    },
    {
      "cell_type": "code",
      "source": [
        "a\n"
      ],
      "metadata": {
        "colab": {
          "base_uri": "https://localhost:8080/"
        },
        "id": "bm1zdcZ6BiyZ",
        "outputId": "b8184de4-8cf7-43d5-daff-1ca850a2b495"
      },
      "execution_count": 3,
      "outputs": [
        {
          "output_type": "execute_result",
          "data": {
            "text/plain": [
              "4"
            ]
          },
          "metadata": {},
          "execution_count": 3
        }
      ]
    },
    {
      "cell_type": "code",
      "source": [
        "a = 10\n",
        "b = 12"
      ],
      "metadata": {
        "id": "LHcUbqL9Brtf"
      },
      "execution_count": 4,
      "outputs": []
    },
    {
      "cell_type": "code",
      "source": [
        "a * b"
      ],
      "metadata": {
        "colab": {
          "base_uri": "https://localhost:8080/"
        },
        "id": "u0jcn_TWBtqe",
        "outputId": "aefacc63-d299-4e89-cf8c-18e374e4125a"
      },
      "execution_count": 5,
      "outputs": [
        {
          "output_type": "execute_result",
          "data": {
            "text/plain": [
              "120"
            ]
          },
          "metadata": {},
          "execution_count": 5
        }
      ]
    },
    {
      "cell_type": "markdown",
      "source": [
        "Naming of variables"
      ],
      "metadata": {
        "id": "O51nYdBwB3e5"
      }
    },
    {
      "cell_type": "code",
      "source": [
        "## Case Sensitive\n",
        "a = 90\n",
        "a"
      ],
      "metadata": {
        "colab": {
          "base_uri": "https://localhost:8080/"
        },
        "id": "BFjFYwGgB4kI",
        "outputId": "47d60bf9-627b-4711-cf56-9023f7c4b681"
      },
      "execution_count": 6,
      "outputs": [
        {
          "output_type": "execute_result",
          "data": {
            "text/plain": [
              "90"
            ]
          },
          "metadata": {},
          "execution_count": 6
        }
      ]
    },
    {
      "cell_type": "code",
      "source": [
        "A = 100"
      ],
      "metadata": {
        "id": "yIkp6rwaCHQk"
      },
      "execution_count": 7,
      "outputs": []
    },
    {
      "cell_type": "code",
      "source": [
        "a * A"
      ],
      "metadata": {
        "colab": {
          "base_uri": "https://localhost:8080/"
        },
        "id": "wfAA3F7uCIv3",
        "outputId": "7442824e-1bcd-44ed-9c93-db637f66fdf6"
      },
      "execution_count": 8,
      "outputs": [
        {
          "output_type": "execute_result",
          "data": {
            "text/plain": [
              "9000"
            ]
          },
          "metadata": {},
          "execution_count": 8
        }
      ]
    },
    {
      "cell_type": "markdown",
      "source": [
        "Variable Naming"
      ],
      "metadata": {
        "id": "2_KCZXUHCP6t"
      }
    },
    {
      "cell_type": "code",
      "source": [
        "a1 = 2\n",
        "a1\n"
      ],
      "metadata": {
        "colab": {
          "base_uri": "https://localhost:8080/"
        },
        "id": "85om85xHCRJF",
        "outputId": "1bd9a018-b9a9-4861-d1ac-07fa4d324b5b"
      },
      "execution_count": 9,
      "outputs": [
        {
          "output_type": "execute_result",
          "data": {
            "text/plain": [
              "2"
            ]
          },
          "metadata": {},
          "execution_count": 9
        }
      ]
    },
    {
      "cell_type": "code",
      "source": [
        "b2 = 90\n",
        "b2"
      ],
      "metadata": {
        "colab": {
          "base_uri": "https://localhost:8080/"
        },
        "id": "fx4XzR0uCVd8",
        "outputId": "9ffae269-7de7-4271-e327-6c64cd24bf9a"
      },
      "execution_count": 10,
      "outputs": [
        {
          "output_type": "execute_result",
          "data": {
            "text/plain": [
              "90"
            ]
          },
          "metadata": {},
          "execution_count": 10
        }
      ]
    },
    {
      "cell_type": "code",
      "source": [
        "## Underscore is a valid variable name\n",
        "\n",
        "_ = 432"
      ],
      "metadata": {
        "id": "zU50ytcYPJkr"
      },
      "execution_count": 11,
      "outputs": []
    },
    {
      "cell_type": "code",
      "source": [
        "_\n"
      ],
      "metadata": {
        "colab": {
          "base_uri": "https://localhost:8080/"
        },
        "id": "QSKKmpxTPOTy",
        "outputId": "722489b3-55e8-46fc-8b79-ebc88af96180"
      },
      "execution_count": 12,
      "outputs": [
        {
          "output_type": "execute_result",
          "data": {
            "text/plain": [
              "432"
            ]
          },
          "metadata": {},
          "execution_count": 12
        }
      ]
    },
    {
      "cell_type": "markdown",
      "source": [
        "Output Function"
      ],
      "metadata": {
        "id": "krct3uRDPmd4"
      }
    },
    {
      "cell_type": "code",
      "source": [
        "a = 89\n",
        "b = 10"
      ],
      "metadata": {
        "id": "Ug4wKOToPnf-"
      },
      "execution_count": 13,
      "outputs": []
    },
    {
      "cell_type": "code",
      "source": [
        "print(a)\n",
        "print(b)"
      ],
      "metadata": {
        "colab": {
          "base_uri": "https://localhost:8080/"
        },
        "id": "y_5fSbqiP5Cm",
        "outputId": "fe021e81-a0e7-4fb9-b38d-0429f29be5e6"
      },
      "execution_count": 14,
      "outputs": [
        {
          "output_type": "stream",
          "name": "stdout",
          "text": [
            "89\n",
            "10\n"
          ]
        }
      ]
    },
    {
      "cell_type": "code",
      "source": [
        "print(a,b)\n",
        " \n",
        "\n",
        " "
      ],
      "metadata": {
        "colab": {
          "base_uri": "https://localhost:8080/"
        },
        "id": "q-_0BQNDQFzh",
        "outputId": "f9404ffe-39e4-4c69-f5b7-117223bfbb82"
      },
      "execution_count": 15,
      "outputs": [
        {
          "output_type": "stream",
          "name": "stdout",
          "text": [
            "89 10\n"
          ]
        }
      ]
    },
    {
      "cell_type": "code",
      "source": [
        "a,b=3,4"
      ],
      "metadata": {
        "id": "rY1Tep0fQMNK"
      },
      "execution_count": 16,
      "outputs": []
    },
    {
      "cell_type": "code",
      "source": [
        "print(a,b)"
      ],
      "metadata": {
        "colab": {
          "base_uri": "https://localhost:8080/"
        },
        "id": "2OBJjlk7QREG",
        "outputId": "f3b2c54d-8579-410e-a66d-871c24204453"
      },
      "execution_count": 17,
      "outputs": [
        {
          "output_type": "stream",
          "name": "stdout",
          "text": [
            "3 4\n"
          ]
        }
      ]
    },
    {
      "cell_type": "code",
      "source": [
        ""
      ],
      "metadata": {
        "id": "sKk2kYAnQVdG"
      },
      "execution_count": null,
      "outputs": []
    }
  ]
}